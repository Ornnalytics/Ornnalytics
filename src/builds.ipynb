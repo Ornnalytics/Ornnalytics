{
 "cells": [
  {
   "cell_type": "markdown",
   "id": "8e04ed19",
   "metadata": {},
   "source": [
    "# Imports"
   ]
  },
  {
   "cell_type": "code",
   "execution_count": null,
   "id": "0a200f48",
   "metadata": {},
   "outputs": [],
   "source": [
    "from riotwatcher import LolWatcher\n",
    "import riotwatcher\n",
    "import cassiopeia as cass\n",
    "import pandas as pd\n",
    "import numpy as np\n",
    "import json \n",
    "import time\n",
    "import timeit"
   ]
  },
  {
   "cell_type": "markdown",
   "id": "38043b0b",
   "metadata": {},
   "source": [
    "# Añadir key"
   ]
  },
  {
   "cell_type": "code",
   "execution_count": null,
   "id": "0814006b",
   "metadata": {},
   "outputs": [],
   "source": [
    "key = \"RGAPI-80b2497f-650f-4c41-b981-898efd21a8b6\"\n",
    "watcher = LolWatcher(key)\n",
    "cass.set_riot_api_key(key)"
   ]
  },
  {
   "cell_type": "markdown",
   "id": "2588b849",
   "metadata": {},
   "source": [
    "# Obtener builds a partir de partidas"
   ]
  },
  {
   "cell_type": "markdown",
   "id": "0a5184de",
   "metadata": {},
   "source": [
    "Lee una lista de ficheros y realiza las builds a partir de estos:"
   ]
  },
  {
   "cell_type": "code",
   "execution_count": null,
   "id": "56a5a850",
   "metadata": {},
   "outputs": [],
   "source": [
    "def get_builds_lanes():\n",
    "    builds = {}\n",
    "    match_counter = 0\n",
    "    high_elo = 0\n",
    "    \n",
    "    #Items que no queremos contar\n",
    "    banned_items = ['1054', '1055', '1056', '2055', '1001', '1102','1103','1101','2003','2010','3513','2139','2138','2140','3853','3860','3864','3857','7004','3851','3863','3855','3859','3858','3862','3854','3850','2403','3400','1083','2033','7003']\n",
    "    #Elos que consideramos \"\"\"medio-alto\"\"\" entre muchas comillas.\n",
    "    elos = ['CHALLENGER', 'GRANDMASTER', 'MASTER', 'DIAMOND', 'PLATINUM', 'GOLD', 'SILVER'] \n",
    "    #Archivos con partidas\n",
    "    files = ['data_matchPROCESSED_1.json', 'data_matchPROCESSED_2.json', 'data_matchPROCESSED_3.json', 'data_matchPROCESSED_4.json', 'data_matchPROCESSED_5.json', 'data_matchPROCESSED_6.json','data_matchPROCESSED_7.json', 'data_matchPROCESSED_8.json', 'data_matchPROCESSED_9.json']\n",
    "    \n",
    "    #Info de items\n",
    "    items = watcher.data_dragon.items('13.7.1')['data']\n",
    "    \n",
    "    for file in files:\n",
    "        print(\"Opening:\", file, \"...\")\n",
    "        f = open(file)\n",
    "        matchinfo = json.load(f)\n",
    "        f.close()\n",
    "        print(\"Processing\", file)\n",
    "        matches = list(matchinfo.values())\n",
    "        for match in matches:\n",
    "            match_counter += 1\n",
    "            #Comprobamos el elo\n",
    "            if match[1] in elos:\n",
    "                high_elo += 1\n",
    "                info = match[0]\n",
    "                #Por cada champ miramos su información\n",
    "                for player in info['info']['participants']:\n",
    "                    champId = player['championId']\n",
    "                    champName = player['championName']\n",
    "                    role = player['individualPosition']\n",
    "                    firstLane = False\n",
    "                    secondLane = False\n",
    "                    for champ in champs:\n",
    "                        if champId == champ['id']:\n",
    "                            champInfo = champ\n",
    "                            break\n",
    "                    if champId not in builds.keys():\n",
    "                        builds[champId] = {\"name\": champName, \"lane\" : {\"global\": {\"mythic\": [], \"boots\": [], \"legendary\": [], \"trinket\": []}, \"firstLane\": None, \"secondLane\": None}}\n",
    "                    \n",
    "                    #Traducimos los roles\n",
    "                    if role == 'TOP':\n",
    "                        role = 'TOP'\n",
    "                    if role == 'MIDDLE':\n",
    "                        role = 'MID'\n",
    "                    if role == 'UTILITY':\n",
    "                        role = 'SUP'\n",
    "                    if role == 'JUNGLE':\n",
    "                        role = 'JGL'\n",
    "                    if role == 'BOTTOM':\n",
    "                        role = 'ADC'\n",
    "                    #Comprobamos si son primarios o secundarios\n",
    "                    if role == champInfo['main_role']:\n",
    "                        firstLane = True\n",
    "                    if role == champInfo['secondary_role']:\n",
    "                        secondLane = True\n",
    "                    \n",
    "                    if firstLane and builds[champId][\"lane\"]['firstLane'] == None:\n",
    "                        builds[champId][\"lane\"]['firstLane'] =  {\"mythic\": [], \"boots\": [], \"legendary\": [], \"trinket\": []}\n",
    "                    if secondLane and builds[champId][\"lane\"]['secondLane'] == None:\n",
    "                        builds[champId][\"lane\"]['secondLane'] =  {\"mythic\": [], \"boots\": [], \"legendary\": [], \"trinket\": []}\n",
    "                    \n",
    "                    #Iteramos items\n",
    "                    for item_index in range(7):\n",
    "                        item = 'item'+str(item_index)\n",
    "                        item_id = str(player[item])\n",
    "                        if item_id != '0' and item_id not in banned_items:\n",
    "                            item_data = items[item_id]\n",
    "                            #Si es un mejorado de Ornn ponemos la versión de tienda\n",
    "                            if 'requiredAlly' in item_data:\n",
    "                                if item_data['requiredAlly'] == 'Ornn':\n",
    "                                    item_id = item_data['from'][0]\n",
    "                                    item_data = items[item_id]\n",
    "                            #Miramos el tipo y añadimos a global y la linea que corresponda\n",
    "                            if (\"rarityMythic\" in item_data['description']):\n",
    "                                builds[champId][\"lane\"]['global'][\"mythic\"].append(item_id)\n",
    "                                if firstLane:\n",
    "                                    builds[champId][\"lane\"]['firstLane'][\"mythic\"].append(item_id)\n",
    "                                if secondLane:\n",
    "                                    builds[champId][\"lane\"]['secondLane'][\"mythic\"].append(item_id)\n",
    "                            elif (\"Boots\" in item_data['tags']):\n",
    "                                builds[champId][\"lane\"]['global'][\"boots\"].append(item_id)\n",
    "                                if firstLane:\n",
    "                                    builds[champId][\"lane\"]['firstLane'][\"boots\"].append(item_id)\n",
    "                                if secondLane:\n",
    "                                    builds[champId][\"lane\"]['secondLane'][\"boots\"].append(item_id)\n",
    "                            elif (\"Trinket\" in item_data['tags']):\n",
    "                                builds[champId][\"lane\"]['global'][\"trinket\"].append(item_id)\n",
    "                                if firstLane:\n",
    "                                    builds[champId][\"lane\"]['firstLane'][\"trinket\"].append(item_id)\n",
    "                                if secondLane:\n",
    "                                    builds[champId][\"lane\"]['secondLane'][\"trinket\"].append(item_id)\n",
    "                            elif (\"into\" not in item_data):\n",
    "                                builds[champId][\"lane\"]['global'][\"legendary\"].append(item_id)\n",
    "                                if firstLane:\n",
    "                                    builds[champId][\"lane\"]['firstLane'][\"legendary\"].append(item_id)\n",
    "                                if secondLane:\n",
    "                                    builds[champId][\"lane\"]['secondLane'][\"legendary\"].append(item_id)\n",
    "                            \n",
    "    #Contamos los items y ordenamos por uso           \n",
    "    for i in list(builds.keys()):\n",
    "        for j in list(builds[i][\"lane\"].keys()):\n",
    "            if builds[i]['lane'][j] != None:\n",
    "                build_tosort = list(builds[i][\"lane\"][j].values())\n",
    "                for h in range(4):\n",
    "                    item_list = np.unique(build_tosort[h], return_counts=True)\n",
    "                    if h == 0:\n",
    "                        index_sort = np.argsort(item_list[1])[::-1]\n",
    "                        builds[i][\"lane\"][j][\"mythic\"] = list(zip(item_list[0][index_sort].tolist(), item_list[1][index_sort].tolist()))\n",
    "                    if h == 1:\n",
    "                        index_sort = np.argsort(item_list[1])[::-1]\n",
    "                        builds[i][\"lane\"][j][\"boots\"] = list(zip(item_list[0][index_sort].tolist(), item_list[1][index_sort].tolist()))\n",
    "                    if h == 2:\n",
    "                        index_sort = np.argsort(item_list[1])[::-1]\n",
    "                        builds[i][\"lane\"][j][\"legendary\"] = list(zip(item_list[0][index_sort].tolist(), item_list[1][index_sort].tolist()))\n",
    "                    if h == 3:\n",
    "                        index_sort = np.argsort(item_list[1])[::-1]\n",
    "                        builds[i][\"lane\"][j][\"trinket\"] = list(zip(item_list[0][index_sort].tolist(), item_list[1][index_sort].tolist()))\n",
    "    \n",
    "    print(\"From\", match_counter, \"matches,\", high_elo, \"were high elo.\")\n",
    "    return builds    "
   ]
  },
  {
   "cell_type": "code",
   "execution_count": null,
   "id": "71b27a81",
   "metadata": {},
   "outputs": [],
   "source": [
    "builds = get_builds_lanes()\n",
    "json_object = json.dumps(builds, indent = 2) \n",
    "with open(\"data_builds.json\", \"w\") as outfile:\n",
    "    outfile.write(json_object)"
   ]
  },
  {
   "cell_type": "markdown",
   "id": "4a8df4fb",
   "metadata": {},
   "source": [
    "# Código para comprobar la cantidad de partidas "
   ]
  },
  {
   "cell_type": "markdown",
   "id": "9de3f3a3",
   "metadata": {},
   "source": [
    "A partir de contar los míticos podemos saber la cantidad de partidas jugadas:"
   ]
  },
  {
   "cell_type": "code",
   "execution_count": null,
   "id": "c11d0eb6",
   "metadata": {},
   "outputs": [],
   "source": [
    "minCount = 100000000000\n",
    "lower = 5000\n",
    "lowerCount = 0\n",
    "temp = 0\n",
    "for i in list(item_rec.keys()):\n",
    "    for it in list(item_rec[i]['lane'].keys()):\n",
    "        if item_rec[i]['lane'][it] != None:\n",
    "            it_temp = item_rec[i]['lane'][it]\n",
    "            for jt in it_temp['mythic']:\n",
    "                temp += jt[1]\n",
    "            if temp < minCount:\n",
    "                print(\"MIN que\", lower, \":\",item_rec[i]['name'], it)\n",
    "                minCount = temp\n",
    "            if temp <= lower:\n",
    "                print(\"Menos que\", lower, \":\",item_rec[i]['name'], it)\n",
    "                lowerCount += 1\n",
    "                \n",
    "            temp = 0\n",
    "print(minCount)\n",
    "print(\"Menor que\", lower, \":\", lowerCount)"
   ]
  }
 ],
 "metadata": {
  "kernelspec": {
   "display_name": "Python 3",
   "language": "python",
   "name": "python3"
  },
  "language_info": {
   "codemirror_mode": {
    "name": "ipython",
    "version": 3
   },
   "file_extension": ".py",
   "mimetype": "text/x-python",
   "name": "python",
   "nbconvert_exporter": "python",
   "pygments_lexer": "ipython3",
   "version": "3.8.8"
  }
 },
 "nbformat": 4,
 "nbformat_minor": 5
}
